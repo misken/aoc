{
 "cells": [
  {
   "cell_type": "code",
   "execution_count": 45,
   "id": "ad11f164-f4bb-4c5b-981c-8ea6937c1618",
   "metadata": {},
   "outputs": [],
   "source": [
    "import networkx as nx\n",
    "import matplotlib.pyplot as plt\n",
    "from collections import Counter"
   ]
  },
  {
   "cell_type": "code",
   "execution_count": 6,
   "id": "3b0e1257-a9f5-4a61-89d3-e94e153073df",
   "metadata": {},
   "outputs": [
    {
     "name": "stdout",
     "output_type": "stream",
     "text": [
      "[['start', 'A'], ['start', 'b'], ['A', 'c'], ['A', 'b'], ['b', 'd'], ['A', 'end'], ['b', 'end']]\n",
      "Graph with 6 nodes and 7 edges\n",
      "{'d', 'c', 'b', 'start', 'end'}\n"
     ]
    }
   ],
   "source": [
    "\n",
    "\n",
    "test = True\n",
    "test_size = 'mini'\n",
    "\n",
    "if test:\n",
    "    data_file = f'data/{test_size}_example.txt'\n",
    "else:\n",
    "    data_file = 'data/input.txt'\n",
    "\n",
    "with open(data_file, 'r') as file_input:\n",
    "    lines = file_input.readlines()\n",
    "    edges = [line.strip().split('-') for line in lines]\n",
    "    print(edges)\n",
    "\n",
    "\n",
    "G = nx.Graph()\n",
    "small_caves = set()\n",
    "\n",
    "for edge in edges:\n",
    "    node1, node2 = edge[0], edge[1]\n",
    "    G.add_edge(node1, node2)\n",
    "    for node in node1, node2:\n",
    "        if node.islower():\n",
    "            small_caves.add(node)\n",
    "\n",
    "print(G)\n",
    "print(small_caves)"
   ]
  },
  {
   "cell_type": "code",
   "execution_count": 4,
   "id": "9d17cc89-5831-46a8-b949-6cb18a16017c",
   "metadata": {},
   "outputs": [
    {
     "data": {
      "text/plain": [
       "NodeView(('start', 'A', 'b', 'c', 'd', 'end'))"
      ]
     },
     "execution_count": 4,
     "metadata": {},
     "output_type": "execute_result"
    }
   ],
   "source": [
    "G.nodes()"
   ]
  },
  {
   "cell_type": "code",
   "execution_count": 5,
   "id": "0f2a050e-0d67-466b-a425-c2a620903c2e",
   "metadata": {},
   "outputs": [
    {
     "data": {
      "text/plain": [
       "{}"
      ]
     },
     "execution_count": 5,
     "metadata": {},
     "output_type": "execute_result"
    }
   ],
   "source": [
    "G.nodes['start']"
   ]
  },
  {
   "cell_type": "code",
   "execution_count": 7,
   "id": "6af3a21e-8dc6-4c20-be6d-95e96cf6eb12",
   "metadata": {},
   "outputs": [
    {
     "name": "stdout",
     "output_type": "stream",
     "text": [
      "[['start', 'A', 'b', 'end'], ['start', 'A', 'end'], ['start', 'b', 'A', 'end'], ['start', 'b', 'end']]\n"
     ]
    }
   ],
   "source": [
    "print([path for path in nx.all_simple_paths(G, 'start', 'end')])"
   ]
  },
  {
   "cell_type": "code",
   "execution_count": 8,
   "id": "586ea473-2200-4132-becc-00f49a27050b",
   "metadata": {},
   "outputs": [
    {
     "data": {
      "text/plain": [
       "AtlasView({'A': {}, 'b': {}})"
      ]
     },
     "execution_count": 8,
     "metadata": {},
     "output_type": "execute_result"
    }
   ],
   "source": [
    "G['start']"
   ]
  },
  {
   "cell_type": "code",
   "execution_count": 13,
   "id": "fb8b6768-e49d-4972-9c2c-d03f200027fd",
   "metadata": {},
   "outputs": [
    {
     "name": "stdout",
     "output_type": "stream",
     "text": [
      "{'start': {}, 'c': {}, 'b': {}, 'end': {}}\n",
      "{'start': {}, 'c': {}, 'b': {}, 'end': {}}\n",
      "<dict_keyiterator object at 0x7fa3f00ed990>\n",
      "start\n",
      "c\n",
      "b\n",
      "end\n"
     ]
    }
   ],
   "source": [
    "# Equivalent ways to reference neighbors of a node\n",
    "print(G['A'])\n",
    "print(G.adj['A'])\n",
    "print(G.neighbors('A'))\n",
    "for n in G.neighbors('A'):\n",
    "    print(n)"
   ]
  },
  {
   "cell_type": "code",
   "execution_count": 14,
   "id": "a16c6880-71b9-46fc-9ff1-1ec3c6f1e702",
   "metadata": {},
   "outputs": [
    {
     "data": {
      "text/plain": [
       "AtlasView({'A': {}, 'b': {}})"
      ]
     },
     "execution_count": 14,
     "metadata": {},
     "output_type": "execute_result"
    }
   ],
   "source": [
    "G['start']"
   ]
  },
  {
   "cell_type": "code",
   "execution_count": 15,
   "id": "1a9fc932-b3c1-463e-9ba4-405b03b47d77",
   "metadata": {},
   "outputs": [
    {
     "data": {
      "image/png": "[encoded data removed]",
      "text/plain": [
       "<Figure size 432x288 with 1 Axes>"
      ]
     },
     "metadata": {},
     "output_type": "display_data"
    }
   ],
   "source": [
    "nx.draw(G)"
   ]
  },
  {
   "cell_type": "code",
   "execution_count": 20,
   "id": "fb4dee9c-2035-4387-9279-b693620bafbb",
   "metadata": {},
   "outputs": [
    {
     "data": {
      "image/png": "[encoded data removed]",
      "text/plain": [
       "<Figure size 432x288 with 1 Axes>"
      ]
     },
     "metadata": {},
     "output_type": "display_data"
    }
   ],
   "source": [
    "options = {\n",
    "    \"font_size\": 12,\n",
    "    \"node_size\": 3000,\n",
    "    \"node_color\": \"white\",\n",
    "    \"edgecolors\": \"black\",\n",
    "    \"linewidths\": 2,\n",
    "    \"width\": 2,\n",
    "}\n",
    "nx.draw_networkx(G, **options)\n",
    "\n",
    "# Set margins for the axes so that nodes aren't clipped\n",
    "ax = plt.gca()\n",
    "ax.margins(0.20)\n",
    "plt.axis(\"off\")\n",
    "plt.show()"
   ]
  },
  {
   "cell_type": "code",
   "execution_count": 49,
   "id": "6bc7ada2-870e-4a6f-849a-c4c40efc7171",
   "metadata": {},
   "outputs": [],
   "source": [
    "paths = []"
   ]
  },
  {
   "cell_type": "code",
   "execution_count": 55,
   "id": "53cfb5bf-ae85-45fa-b774-f9ade6147d16",
   "metadata": {},
   "outputs": [
    {
     "name": "stdout",
     "output_type": "stream",
     "text": [
      "[['start', 'A'], ['start', 'b']]\n"
     ]
    }
   ],
   "source": [
    "# Initialize partial paths to explore\n",
    "to_explore = []\n",
    "for node in G.adj['start']:\n",
    "    to_explore.append(['start', node])\n",
    "    \n",
    "print(to_explore)"
   ]
  },
  {
   "cell_type": "code",
   "execution_count": 56,
   "id": "c1a5c314-a46b-4bf7-b796-1074d429929b",
   "metadata": {},
   "outputs": [
    {
     "data": {
      "text/plain": [
       "[['start', 'A'], ['start', 'b']]"
      ]
     },
     "execution_count": 56,
     "metadata": {},
     "output_type": "execute_result"
    }
   ],
   "source": [
    "to_explore"
   ]
  },
  {
   "cell_type": "code",
   "execution_count": 57,
   "id": "5dbbad6e-1c9d-4717-b9dd-3f28af93357d",
   "metadata": {},
   "outputs": [
    {
     "data": {
      "text/plain": [
       "['start', 'b']"
      ]
     },
     "execution_count": 57,
     "metadata": {},
     "output_type": "execute_result"
    }
   ],
   "source": [
    "current_path = to_explore.pop()\n",
    "current_path"
   ]
  },
  {
   "cell_type": "code",
   "execution_count": 58,
   "id": "548e3211-9a95-4172-ac9c-4e579da9c27e",
   "metadata": {},
   "outputs": [
    {
     "data": {
      "text/plain": [
       "[['start', 'A']]"
      ]
     },
     "execution_count": 58,
     "metadata": {},
     "output_type": "execute_result"
    }
   ],
   "source": [
    "to_explore"
   ]
  },
  {
   "cell_type": "code",
   "execution_count": 59,
   "id": "02d3ae2a-ca31-44fc-8ed3-e966adcda7f5",
   "metadata": {},
   "outputs": [
    {
     "name": "stdout",
     "output_type": "stream",
     "text": [
      "None\n"
     ]
    },
    {
     "ename": "TypeError",
     "evalue": "'NoneType' object is not subscriptable",
     "output_type": "error",
     "traceback": [
      "\u001b[0;31m---------------------------------------------------------------------------\u001b[0m",
      "\u001b[0;31mTypeError\u001b[0m                                 Traceback (most recent call last)",
      "\u001b[0;32m/tmp/ipykernel_6179/2167950652.py\u001b[0m in \u001b[0;36m<module>\u001b[0;34m\u001b[0m\n\u001b[1;32m      6\u001b[0m \u001b[0;32mwhile\u001b[0m \u001b[0mlen\u001b[0m\u001b[0;34m(\u001b[0m\u001b[0mto_explore\u001b[0m\u001b[0;34m)\u001b[0m \u001b[0;34m>\u001b[0m \u001b[0;36m0\u001b[0m\u001b[0;34m:\u001b[0m\u001b[0;34m\u001b[0m\u001b[0;34m\u001b[0m\u001b[0m\n\u001b[1;32m      7\u001b[0m     \u001b[0mcurrent_path\u001b[0m \u001b[0;34m=\u001b[0m \u001b[0mto_explore\u001b[0m\u001b[0;34m.\u001b[0m\u001b[0mpop\u001b[0m\u001b[0;34m(\u001b[0m\u001b[0;34m)\u001b[0m\u001b[0;34m\u001b[0m\u001b[0;34m\u001b[0m\u001b[0m\n\u001b[0;32m----> 8\u001b[0;31m     \u001b[0mterminal_node\u001b[0m \u001b[0;34m=\u001b[0m \u001b[0mcurrent_path\u001b[0m\u001b[0;34m[\u001b[0m\u001b[0;34m-\u001b[0m\u001b[0;36m1\u001b[0m\u001b[0;34m]\u001b[0m\u001b[0;34m\u001b[0m\u001b[0;34m\u001b[0m\u001b[0m\n\u001b[0m\u001b[1;32m      9\u001b[0m     \u001b[0mnew_neighbors\u001b[0m \u001b[0;34m=\u001b[0m \u001b[0mG\u001b[0m\u001b[0;34m.\u001b[0m\u001b[0madj\u001b[0m\u001b[0;34m[\u001b[0m\u001b[0mterminal_node\u001b[0m\u001b[0;34m]\u001b[0m\u001b[0;34m\u001b[0m\u001b[0;34m\u001b[0m\u001b[0m\n\u001b[1;32m     10\u001b[0m     \u001b[0;32mfor\u001b[0m \u001b[0mn\u001b[0m \u001b[0;32min\u001b[0m \u001b[0mnew_neighbors\u001b[0m\u001b[0;34m:\u001b[0m\u001b[0;34m\u001b[0m\u001b[0;34m\u001b[0m\u001b[0m\n",
      "\u001b[0;31mTypeError\u001b[0m: 'NoneType' object is not subscriptable"
     ]
    }
   ],
   "source": [
    "# Initialize partial paths to explore\n",
    "to_explore = []\n",
    "for node in G.adj['start']:\n",
    "    to_explore.append(['start', node])\n",
    "\n",
    "while len(to_explore) > 0:\n",
    "    current_path = to_explore.pop()\n",
    "    terminal_node = current_path[-1]\n",
    "    new_neighbors = G.adj[terminal_node]\n",
    "    for n in new_neighbors:\n",
    "        if n == 'end':\n",
    "            complete_path = current_path.append('end')\n",
    "            paths.append(complete_path)\n",
    "            print(complete_path)\n",
    "        else:\n",
    "            new_partial_path = current_path.append(n)\n",
    "            if n.isupper() or Counter(new_partial_path)[n] == 0:\n",
    "                to_explore.append(new_partial_path)"
   ]
  },
  {
   "cell_type": "code",
   "execution_count": 47,
   "id": "267464d2-9bc0-47db-b0ab-9d8adccb78ab",
   "metadata": {},
   "outputs": [
    {
     "name": "stdout",
     "output_type": "stream",
     "text": [
      "Counter({'start': 1, 'b': 1, 'A': 1})\n",
      "1\n"
     ]
    }
   ],
   "source": [
    "visit_counts = Counter(partial_path)\n",
    "print(visit_counts)\n",
    "print(visit_counts['b'])"
   ]
  },
  {
   "cell_type": "code",
   "execution_count": null,
   "id": "ba359ea1-0e20-4292-8bc2-3429164a34f0",
   "metadata": {},
   "outputs": [],
   "source": []
  },
  {
   "cell_type": "code",
   "execution_count": null,
   "id": "77b2c0fa-339f-4e76-b00a-611853319e71",
   "metadata": {},
   "outputs": [],
   "source": [
    "terminus = partial_path[-1]\n",
    "if terminus = G.nodes['end']:\n",
    "    print('reached the end')\n",
    "    \n",
    "# Find neighbors of current terminus\n",
    "term_neighbors = G[terminus]\n",
    "for node in term_neighbors:"
   ]
  }
 ],
 "metadata": {
  "kernelspec": {
   "display_name": "Python [conda env:analytics]",
   "language": "python",
   "name": "conda-env-analytics-py"
  },
  "language_info": {
   "codemirror_mode": {
    "name": "ipython",
    "version": 3
   },
   "file_extension": ".py",
   "mimetype": "text/x-python",
   "name": "python",
   "nbconvert_exporter": "python",
   "pygments_lexer": "ipython3",
   "version": "3.10.0"
  }
 },
 "nbformat": 4,
 "nbformat_minor": 5
}
